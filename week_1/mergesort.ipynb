{
 "cells": [
  {
   "cell_type": "markdown",
   "metadata": {},
   "source": [
    "# Merge Sort"
   ]
  },
  {
   "cell_type": "code",
   "execution_count": 1,
   "metadata": {},
   "outputs": [],
   "source": [
    "def merge_sort(arr):\n",
    "    mid = len(arr) // 2 # middle point\n",
    "    l = arr[:mid] # left half\n",
    "    r = arr[mid:] # right half\n",
    "    \n",
    "    if len(arr) > 1:\n",
    "        merge_sort(l) # call function recursively on the left half\n",
    "        merge_sort(r) # call function recursively on the right half\n",
    "        \n",
    "        # sort\n",
    "        i = j = k = 0\n",
    "        while(i < len(l) and j < len(r)):\n",
    "            if(l[i] < r[j]):\n",
    "                arr[k] = l[i]\n",
    "                k += 1\n",
    "                i += 1\n",
    "            else:\n",
    "                arr[k] = r[j]\n",
    "                k += 1\n",
    "                j += 1\n",
    "        \n",
    "        # copy the rest of the elements on both left and right array\n",
    "        while(i < len(l)):\n",
    "            arr[k] = l[i]\n",
    "            k += 1\n",
    "            i += 1\n",
    "        while(j < len(r)):\n",
    "            arr[k] = r[j]\n",
    "            k += 1\n",
    "            j += 1"
   ]
  },
  {
   "cell_type": "code",
   "execution_count": 2,
   "metadata": {},
   "outputs": [],
   "source": [
    "a = [24, 225, 313, 51, 25, 61]"
   ]
  },
  {
   "cell_type": "code",
   "execution_count": 3,
   "metadata": {},
   "outputs": [
    {
     "name": "stdout",
     "output_type": "stream",
     "text": [
      "24 25 51 61 225 313 "
     ]
    }
   ],
   "source": [
    "merge_sort(a)\n",
    "for e in a:\n",
    "    print(e, end=\" \")"
   ]
  },
  {
   "cell_type": "code",
   "execution_count": null,
   "metadata": {},
   "outputs": [],
   "source": []
  }
 ],
 "metadata": {
  "kernelspec": {
   "display_name": "Python 3",
   "language": "python",
   "name": "python3"
  },
  "language_info": {
   "codemirror_mode": {
    "name": "ipython",
    "version": 3
   },
   "file_extension": ".py",
   "mimetype": "text/x-python",
   "name": "python",
   "nbconvert_exporter": "python",
   "pygments_lexer": "ipython3",
   "version": "3.6.6"
  }
 },
 "nbformat": 4,
 "nbformat_minor": 4
}
