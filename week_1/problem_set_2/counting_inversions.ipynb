{
 "cells": [
  {
   "cell_type": "markdown",
   "metadata": {},
   "source": [
    "# Programming Assignment #2\n",
    "## TOTAL POINTS 1\n",
    "--------------------------------------------------------\n",
    "### 1. Download the following text file:\n",
    "\n",
    "[IntegerArray.txt](https://d3c33hcgiwev3.cloudfront.net/_bcb5c6658381416d19b01bfc1d3993b5_IntegerArray.txt?Expires=1594857600&Signature=Y4uQz9YyUvrhfy43UoWGe3DKWxy1etxafSDqL1k8wHLGihF-~xDHnbHiCpV9WIKeD2EQ0B2svdDXyixu5GUuLUlosahlpIHfu5obmav0GpDj8P97laJ0W0kDz99mK49w37K~BiJcGwbtr4AfEuPfe7fycX~4BryooeAv3wFxQoc_&Key-Pair-Id=APKAJLTNE6QMUY6HBC5A)\n",
    "This file contains all of the 100,000 integers between 1 and 100,000 (inclusive) in some order, with no integer repeated.\n",
    "\n",
    "Your task is to compute the number of inversions in the file given, where the ith row of the file indicates the ith entry of an array.\n",
    "\n",
    "Because of the large size of this array, you should implement the fast divide-and-conquer algorithm covered in the video lectures.\n",
    "\n",
    "The numeric answer for the given input file should be typed in the space below.\n",
    "\n",
    "So if your answer is 1198233847, then just type 1198233847 in the space provided without any space / commas / any other punctuation marks. You can make up to 5 attempts, and we'll use the best one for grading.\n",
    "\n",
    "(We do not require you to submit your code, so feel free to use any programming language you want --- just type the final numeric answer in the following space.)\n",
    "\n",
    "[TIP: before submitting, first test the correctness of your program on some small test files or your own devising. Then post your best test cases to the discussion forums to help your fellow students!]"
   ]
  },
  {
   "cell_type": "code",
   "execution_count": 93,
   "metadata": {},
   "outputs": [],
   "source": [
    "# read and load the file\n",
    "numbers = []\n",
    "f = open('IntegerArray.txt', 'r')\n",
    "raw = f.read()\n",
    "num_split = raw.split('\\n')\n",
    "for n in num_split:\n",
    "    if n == '': continue\n",
    "    numbers.append(int(n))"
   ]
  },
  {
   "cell_type": "code",
   "execution_count": 94,
   "metadata": {},
   "outputs": [
    {
     "name": "stdout",
     "output_type": "stream",
     "text": [
      "Total numbers in the file: 100000\n"
     ]
    }
   ],
   "source": [
    "print('Total numbers in the file:', len(numbers))"
   ]
  },
  {
   "cell_type": "code",
   "execution_count": 102,
   "metadata": {},
   "outputs": [],
   "source": [
    "def count_and_split_inversion(arr):\n",
    "    cnt = 0\n",
    "    mid = len(arr)//2\n",
    "    \n",
    "    if len(arr) > 1:\n",
    "        left, left_inv = count_and_split_inversion(arr[:mid])\n",
    "        right, right_inv = count_and_split_inversion(arr[mid:])\n",
    "        \n",
    "        # piggyback merge sort\n",
    "        i = j = k = 0\n",
    "        while(i < len(left) and j < len(right)):\n",
    "            if(left[i] < right[j]):\n",
    "                arr[k] = left[i]\n",
    "                i += 1\n",
    "                k += 1\n",
    "            else:\n",
    "                arr[k] = right[j]\n",
    "                cnt += len(left)-i # increment the number of inversion\n",
    "                j += 1\n",
    "                k += 1\n",
    "        \n",
    "        while(i < len(left)):\n",
    "            arr[k] = left[i]\n",
    "            k += 1\n",
    "            i += 1\n",
    "        while(j < len(right)):\n",
    "            arr[k] = right[j]\n",
    "            k += 1\n",
    "            j += 1\n",
    "            \n",
    "        return arr, left_inv+right_inv+cnt\n",
    "    \n",
    "    elif len(arr) == 1:\n",
    "        return arr, 0"
   ]
  },
  {
   "cell_type": "code",
   "execution_count": 96,
   "metadata": {},
   "outputs": [],
   "source": [
    "def check(arr):\n",
    "    flag = True\n",
    "    for i in range(len(arr)-1):\n",
    "        if(arr[i] > arr[i+1]):\n",
    "            flag = False\n",
    "            break\n",
    "    if flag:\n",
    "        print('Array sorted correctly!')\n",
    "    else:\n",
    "        print('Array is not sorted correctly at index:', i)"
   ]
  },
  {
   "cell_type": "code",
   "execution_count": 97,
   "metadata": {},
   "outputs": [],
   "source": [
    "sorted_num, num_of_inversions = count_and_split_inversion(numbers) "
   ]
  },
  {
   "cell_type": "code",
   "execution_count": 98,
   "metadata": {},
   "outputs": [
    {
     "name": "stdout",
     "output_type": "stream",
     "text": [
      "Array sorted correctly!\n"
     ]
    }
   ],
   "source": [
    "check(sorted_num)"
   ]
  },
  {
   "cell_type": "code",
   "execution_count": 99,
   "metadata": {},
   "outputs": [
    {
     "name": "stdout",
     "output_type": "stream",
     "text": [
      "Number of inversions: 2407905288\n"
     ]
    }
   ],
   "source": [
    "print('Number of inversions:', num_of_inversions)"
   ]
  },
  {
   "cell_type": "code",
   "execution_count": null,
   "metadata": {},
   "outputs": [],
   "source": []
  }
 ],
 "metadata": {
  "kernelspec": {
   "display_name": "Python 3",
   "language": "python",
   "name": "python3"
  },
  "language_info": {
   "codemirror_mode": {
    "name": "ipython",
    "version": 3
   },
   "file_extension": ".py",
   "mimetype": "text/x-python",
   "name": "python",
   "nbconvert_exporter": "python",
   "pygments_lexer": "ipython3",
   "version": "3.7.6"
  }
 },
 "nbformat": 4,
 "nbformat_minor": 4
}
